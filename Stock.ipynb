{
  "nbformat": 4,
  "nbformat_minor": 0,
  "metadata": {
    "colab": {
      "name": "Stock.ipynb",
      "provenance": [],
      "authorship_tag": "ABX9TyMASH70qvooeALhvFY6nOCT",
      "include_colab_link": true
    },
    "kernelspec": {
      "name": "python3",
      "display_name": "Python 3"
    },
    "language_info": {
      "name": "python"
    }
  },
  "cells": [
    {
      "cell_type": "markdown",
      "metadata": {
        "id": "view-in-github",
        "colab_type": "text"
      },
      "source": [
        "<a href=\"https://colab.research.google.com/github/ming-90/Kaggle_Playground/blob/main/Stock.ipynb\" target=\"_parent\"><img src=\"https://colab.research.google.com/assets/colab-badge.svg\" alt=\"Open In Colab\"/></a>"
      ]
    },
    {
      "cell_type": "markdown",
      "source": [
        ""
      ],
      "metadata": {
        "id": "B4cCLNGcs2og"
      }
    },
    {
      "cell_type": "code",
      "execution_count": 1,
      "metadata": {
        "id": "stMjOlJeTrf3"
      },
      "outputs": [],
      "source": [
        "import pandas as pd\n",
        "import numpy as np\n",
        "import matplotlib.pyplot as plt\n",
        "from keras.models import Sequential\n",
        "from keras.layers import LSTM, Dropout, Dense, Activation\n",
        "import datetime"
      ]
    },
    {
      "cell_type": "code",
      "source": [
        "from google.colab import drive\n",
        "drive.mount('drive')"
      ],
      "metadata": {
        "colab": {
          "base_uri": "https://localhost:8080/"
        },
        "id": "-u9OyCIAUNan",
        "outputId": "7893af96-4783-4940-f6fe-b6fafafa171a"
      },
      "execution_count": 2,
      "outputs": [
        {
          "output_type": "stream",
          "name": "stdout",
          "text": [
            "Mounted at drive\n"
          ]
        }
      ]
    },
    {
      "cell_type": "code",
      "source": [
        "cd /content/drive/MyDrive/Colab/캐글놀이터/4. Stock"
      ],
      "metadata": {
        "colab": {
          "base_uri": "https://localhost:8080/"
        },
        "id": "YhIyacnP-ub8",
        "outputId": "c4b421b2-4070-40c3-ef21-5aedc4f0c86e"
      },
      "execution_count": 3,
      "outputs": [
        {
          "output_type": "stream",
          "name": "stdout",
          "text": [
            "/content/drive/MyDrive/Colab/캐글놀이터/4. Stock\n"
          ]
        }
      ]
    },
    {
      "cell_type": "markdown",
      "source": [
        ">  # Data Load"
      ],
      "metadata": {
        "id": "5u7KjdL__OXK"
      }
    },
    {
      "cell_type": "code",
      "source": [
        "data = pd.read_csv('data/Samsung.csv')\n",
        "\n",
        "data.head()"
      ],
      "metadata": {
        "colab": {
          "base_uri": "https://localhost:8080/",
          "height": 206
        },
        "id": "WUGnThCxAABB",
        "outputId": "16b890d8-2681-4061-e2f1-2bae414f81ec"
      },
      "execution_count": 99,
      "outputs": [
        {
          "output_type": "execute_result",
          "data": {
            "text/html": [
              "\n",
              "  <div id=\"df-e9fb71ee-291a-4aab-bda0-ef0b47ba93bd\">\n",
              "    <div class=\"colab-df-container\">\n",
              "      <div>\n",
              "<style scoped>\n",
              "    .dataframe tbody tr th:only-of-type {\n",
              "        vertical-align: middle;\n",
              "    }\n",
              "\n",
              "    .dataframe tbody tr th {\n",
              "        vertical-align: top;\n",
              "    }\n",
              "\n",
              "    .dataframe thead th {\n",
              "        text-align: right;\n",
              "    }\n",
              "</style>\n",
              "<table border=\"1\" class=\"dataframe\">\n",
              "  <thead>\n",
              "    <tr style=\"text-align: right;\">\n",
              "      <th></th>\n",
              "      <th>Date</th>\n",
              "      <th>Open</th>\n",
              "      <th>High</th>\n",
              "      <th>Low</th>\n",
              "      <th>Close</th>\n",
              "      <th>Adj Close</th>\n",
              "      <th>Volume</th>\n",
              "    </tr>\n",
              "  </thead>\n",
              "  <tbody>\n",
              "    <tr>\n",
              "      <th>0</th>\n",
              "      <td>2017-01-31</td>\n",
              "      <td>39900.0</td>\n",
              "      <td>39900.0</td>\n",
              "      <td>39460.0</td>\n",
              "      <td>39460.0</td>\n",
              "      <td>34243.273438</td>\n",
              "      <td>17992200</td>\n",
              "    </tr>\n",
              "    <tr>\n",
              "      <th>1</th>\n",
              "      <td>2017-02-01</td>\n",
              "      <td>39540.0</td>\n",
              "      <td>39660.0</td>\n",
              "      <td>39040.0</td>\n",
              "      <td>39120.0</td>\n",
              "      <td>33948.218750</td>\n",
              "      <td>14150400</td>\n",
              "    </tr>\n",
              "    <tr>\n",
              "      <th>2</th>\n",
              "      <td>2017-02-02</td>\n",
              "      <td>39600.0</td>\n",
              "      <td>39660.0</td>\n",
              "      <td>39200.0</td>\n",
              "      <td>39360.0</td>\n",
              "      <td>34156.484375</td>\n",
              "      <td>15029300</td>\n",
              "    </tr>\n",
              "    <tr>\n",
              "      <th>3</th>\n",
              "      <td>2017-02-03</td>\n",
              "      <td>39400.0</td>\n",
              "      <td>39500.0</td>\n",
              "      <td>39180.0</td>\n",
              "      <td>39460.0</td>\n",
              "      <td>34243.273438</td>\n",
              "      <td>10386350</td>\n",
              "    </tr>\n",
              "    <tr>\n",
              "      <th>4</th>\n",
              "      <td>2017-02-06</td>\n",
              "      <td>39580.0</td>\n",
              "      <td>39660.0</td>\n",
              "      <td>39140.0</td>\n",
              "      <td>39560.0</td>\n",
              "      <td>34330.054688</td>\n",
              "      <td>8860700</td>\n",
              "    </tr>\n",
              "  </tbody>\n",
              "</table>\n",
              "</div>\n",
              "      <button class=\"colab-df-convert\" onclick=\"convertToInteractive('df-e9fb71ee-291a-4aab-bda0-ef0b47ba93bd')\"\n",
              "              title=\"Convert this dataframe to an interactive table.\"\n",
              "              style=\"display:none;\">\n",
              "        \n",
              "  <svg xmlns=\"http://www.w3.org/2000/svg\" height=\"24px\"viewBox=\"0 0 24 24\"\n",
              "       width=\"24px\">\n",
              "    <path d=\"M0 0h24v24H0V0z\" fill=\"none\"/>\n",
              "    <path d=\"M18.56 5.44l.94 2.06.94-2.06 2.06-.94-2.06-.94-.94-2.06-.94 2.06-2.06.94zm-11 1L8.5 8.5l.94-2.06 2.06-.94-2.06-.94L8.5 2.5l-.94 2.06-2.06.94zm10 10l.94 2.06.94-2.06 2.06-.94-2.06-.94-.94-2.06-.94 2.06-2.06.94z\"/><path d=\"M17.41 7.96l-1.37-1.37c-.4-.4-.92-.59-1.43-.59-.52 0-1.04.2-1.43.59L10.3 9.45l-7.72 7.72c-.78.78-.78 2.05 0 2.83L4 21.41c.39.39.9.59 1.41.59.51 0 1.02-.2 1.41-.59l7.78-7.78 2.81-2.81c.8-.78.8-2.07 0-2.86zM5.41 20L4 18.59l7.72-7.72 1.47 1.35L5.41 20z\"/>\n",
              "  </svg>\n",
              "      </button>\n",
              "      \n",
              "  <style>\n",
              "    .colab-df-container {\n",
              "      display:flex;\n",
              "      flex-wrap:wrap;\n",
              "      gap: 12px;\n",
              "    }\n",
              "\n",
              "    .colab-df-convert {\n",
              "      background-color: #E8F0FE;\n",
              "      border: none;\n",
              "      border-radius: 50%;\n",
              "      cursor: pointer;\n",
              "      display: none;\n",
              "      fill: #1967D2;\n",
              "      height: 32px;\n",
              "      padding: 0 0 0 0;\n",
              "      width: 32px;\n",
              "    }\n",
              "\n",
              "    .colab-df-convert:hover {\n",
              "      background-color: #E2EBFA;\n",
              "      box-shadow: 0px 1px 2px rgba(60, 64, 67, 0.3), 0px 1px 3px 1px rgba(60, 64, 67, 0.15);\n",
              "      fill: #174EA6;\n",
              "    }\n",
              "\n",
              "    [theme=dark] .colab-df-convert {\n",
              "      background-color: #3B4455;\n",
              "      fill: #D2E3FC;\n",
              "    }\n",
              "\n",
              "    [theme=dark] .colab-df-convert:hover {\n",
              "      background-color: #434B5C;\n",
              "      box-shadow: 0px 1px 3px 1px rgba(0, 0, 0, 0.15);\n",
              "      filter: drop-shadow(0px 1px 2px rgba(0, 0, 0, 0.3));\n",
              "      fill: #FFFFFF;\n",
              "    }\n",
              "  </style>\n",
              "\n",
              "      <script>\n",
              "        const buttonEl =\n",
              "          document.querySelector('#df-e9fb71ee-291a-4aab-bda0-ef0b47ba93bd button.colab-df-convert');\n",
              "        buttonEl.style.display =\n",
              "          google.colab.kernel.accessAllowed ? 'block' : 'none';\n",
              "\n",
              "        async function convertToInteractive(key) {\n",
              "          const element = document.querySelector('#df-e9fb71ee-291a-4aab-bda0-ef0b47ba93bd');\n",
              "          const dataTable =\n",
              "            await google.colab.kernel.invokeFunction('convertToInteractive',\n",
              "                                                     [key], {});\n",
              "          if (!dataTable) return;\n",
              "\n",
              "          const docLinkHtml = 'Like what you see? Visit the ' +\n",
              "            '<a target=\"_blank\" href=https://colab.research.google.com/notebooks/data_table.ipynb>data table notebook</a>'\n",
              "            + ' to learn more about interactive tables.';\n",
              "          element.innerHTML = '';\n",
              "          dataTable['output_type'] = 'display_data';\n",
              "          await google.colab.output.renderOutput(dataTable, element);\n",
              "          const docLink = document.createElement('div');\n",
              "          docLink.innerHTML = docLinkHtml;\n",
              "          element.appendChild(docLink);\n",
              "        }\n",
              "      </script>\n",
              "    </div>\n",
              "  </div>\n",
              "  "
            ],
            "text/plain": [
              "         Date     Open     High      Low    Close     Adj Close    Volume\n",
              "0  2017-01-31  39900.0  39900.0  39460.0  39460.0  34243.273438  17992200\n",
              "1  2017-02-01  39540.0  39660.0  39040.0  39120.0  33948.218750  14150400\n",
              "2  2017-02-02  39600.0  39660.0  39200.0  39360.0  34156.484375  15029300\n",
              "3  2017-02-03  39400.0  39500.0  39180.0  39460.0  34243.273438  10386350\n",
              "4  2017-02-06  39580.0  39660.0  39140.0  39560.0  34330.054688   8860700"
            ]
          },
          "metadata": {},
          "execution_count": 99
        }
      ]
    },
    {
      "cell_type": "markdown",
      "source": [
        "> # Compute Mid Price"
      ],
      "metadata": {
        "id": "HpTWCx5mBx5a"
      }
    },
    {
      "cell_type": "code",
      "source": [
        "high_prices = data[\"High\"].values\n",
        "low_prices = data[\"Low\"].values\n",
        "mid_prices = (high_prices + low_prices) / 2"
      ],
      "metadata": {
        "id": "sRDKL69lB4Co"
      },
      "execution_count": 6,
      "outputs": []
    },
    {
      "cell_type": "markdown",
      "source": [
        "> # Create Windows"
      ],
      "metadata": {
        "id": "f-TZ0uECCFwK"
      }
    },
    {
      "cell_type": "code",
      "source": [
        "seq_len = 50\n",
        "sequence_length = seq_len + 1\n",
        "\n",
        "result = []\n",
        "for index in range(len(mid_prices) - sequence_length):\n",
        "    result.append(mid_prices[index: index + sequence_length])"
      ],
      "metadata": {
        "id": "SRORf0yECYvI"
      },
      "execution_count": 79,
      "outputs": []
    },
    {
      "cell_type": "code",
      "source": [
        "result.shape"
      ],
      "metadata": {
        "colab": {
          "base_uri": "https://localhost:8080/"
        },
        "id": "SKSjMXSe-QoI",
        "outputId": "f2d66c1b-afc6-4cc6-acc0-b14566c43903"
      },
      "execution_count": 97,
      "outputs": [
        {
          "output_type": "execute_result",
          "data": {
            "text/plain": [
              "(1176, 51)"
            ]
          },
          "metadata": {},
          "execution_count": 97
        }
      ]
    },
    {
      "cell_type": "markdown",
      "source": [
        "> # Normalize Data"
      ],
      "metadata": {
        "id": "LE9bjCh5EvnE"
      }
    },
    {
      "cell_type": "code",
      "source": [
        "normalized_data = []\n",
        "for window in result:\n",
        "    normalized_window = [((float(p) / float(window[0])) - 1) for p in window]\n",
        "    normalized_data.append(normalized_window)\n",
        "\n",
        "result = np.array(normalized_data)\n",
        "\n",
        "# normalize한 데이터의 90%를 train 데이터로 사용\n",
        "row = int(round(result.shape[0] * 0.9))\n",
        "train = result[:row, :]\n",
        "np.random.shuffle(train)\n",
        "\n",
        "x_train = train[:, :-1]\n",
        "x_train = np.reshape(x_train, (x_train.shape[0], x_train.shape[1], 1))\n",
        "y_train = train[:, -1]\n",
        "\n",
        "x_test = result[row:, :-1]\n",
        "x_test = np.reshape(x_test, (x_test.shape[0], x_test.shape[1], 1))\n",
        "y_test = result[row:, -1]\n",
        "\n",
        "x_train.shape, x_test.shape"
      ],
      "metadata": {
        "id": "DGyUN6UrEzDJ",
        "colab": {
          "base_uri": "https://localhost:8080/"
        },
        "outputId": "bb918e47-1857-458e-df4c-53a8608a7e1d"
      },
      "execution_count": 80,
      "outputs": [
        {
          "output_type": "execute_result",
          "data": {
            "text/plain": [
              "((1058, 50, 1), (118, 50, 1))"
            ]
          },
          "metadata": {},
          "execution_count": 80
        }
      ]
    },
    {
      "cell_type": "markdown",
      "source": [
        "> # Build a Model"
      ],
      "metadata": {
        "id": "yG5pME5V02FA"
      }
    },
    {
      "cell_type": "code",
      "source": [
        "model = Sequential()\n",
        "model.add(LSTM(50, return_sequences=True, input_shape=(50,1)))\n",
        "model.add(LSTM(64, return_sequences=False))\n",
        "model.add(Dense(1, activation='linear'))\n",
        "model.compile(loss='mse', optimizer='rmsprop')\n",
        "model.summary()"
      ],
      "metadata": {
        "id": "Le3suBoh1apu",
        "colab": {
          "base_uri": "https://localhost:8080/"
        },
        "outputId": "ed85b33f-35fd-4230-a23b-87fb937212b2"
      },
      "execution_count": 81,
      "outputs": [
        {
          "output_type": "stream",
          "name": "stdout",
          "text": [
            "Model: \"sequential_3\"\n",
            "_________________________________________________________________\n",
            " Layer (type)                Output Shape              Param #   \n",
            "=================================================================\n",
            " lstm_6 (LSTM)               (None, 50, 50)            10400     \n",
            "                                                                 \n",
            " lstm_7 (LSTM)               (None, 64)                29440     \n",
            "                                                                 \n",
            " dense_3 (Dense)             (None, 1)                 65        \n",
            "                                                                 \n",
            "=================================================================\n",
            "Total params: 39,905\n",
            "Trainable params: 39,905\n",
            "Non-trainable params: 0\n",
            "_________________________________________________________________\n"
          ]
        }
      ]
    },
    {
      "cell_type": "markdown",
      "source": [
        "> # Training"
      ],
      "metadata": {
        "id": "KOwKAvAe2oqL"
      }
    },
    {
      "cell_type": "code",
      "source": [
        "model.fit(x_train, y_train,\n",
        "          validation_data=(x_test,y_test),\n",
        "          batch_size=10,\n",
        "          epochs=20)"
      ],
      "metadata": {
        "colab": {
          "base_uri": "https://localhost:8080/"
        },
        "id": "tFJTX1Ka2ro4",
        "outputId": "6f141741-4645-4d54-eede-59349e40eacf"
      },
      "execution_count": 82,
      "outputs": [
        {
          "output_type": "stream",
          "name": "stdout",
          "text": [
            "Epoch 1/20\n",
            "106/106 [==============================] - 10s 56ms/step - loss: 0.0016 - val_loss: 6.4440e-04\n",
            "Epoch 2/20\n",
            "106/106 [==============================] - 5s 46ms/step - loss: 8.7348e-04 - val_loss: 5.2630e-04\n",
            "Epoch 3/20\n",
            "106/106 [==============================] - 5s 46ms/step - loss: 6.2807e-04 - val_loss: 4.3003e-04\n",
            "Epoch 4/20\n",
            "106/106 [==============================] - 5s 46ms/step - loss: 5.0210e-04 - val_loss: 2.0798e-04\n",
            "Epoch 5/20\n",
            "106/106 [==============================] - 5s 46ms/step - loss: 4.4625e-04 - val_loss: 2.1038e-04\n",
            "Epoch 6/20\n",
            "106/106 [==============================] - 5s 46ms/step - loss: 3.6282e-04 - val_loss: 1.6527e-04\n",
            "Epoch 7/20\n",
            "106/106 [==============================] - 5s 46ms/step - loss: 3.3546e-04 - val_loss: 1.2604e-04\n",
            "Epoch 8/20\n",
            "106/106 [==============================] - 5s 46ms/step - loss: 3.3372e-04 - val_loss: 1.8663e-04\n",
            "Epoch 9/20\n",
            "106/106 [==============================] - 5s 46ms/step - loss: 3.1000e-04 - val_loss: 1.2052e-04\n",
            "Epoch 10/20\n",
            "106/106 [==============================] - 5s 45ms/step - loss: 3.0147e-04 - val_loss: 1.2107e-04\n",
            "Epoch 11/20\n",
            "106/106 [==============================] - 5s 46ms/step - loss: 2.9755e-04 - val_loss: 1.1256e-04\n",
            "Epoch 12/20\n",
            "106/106 [==============================] - 5s 47ms/step - loss: 3.0401e-04 - val_loss: 1.2213e-04\n",
            "Epoch 13/20\n",
            "106/106 [==============================] - 5s 46ms/step - loss: 3.0148e-04 - val_loss: 2.5593e-04\n",
            "Epoch 14/20\n",
            "106/106 [==============================] - 5s 46ms/step - loss: 2.9259e-04 - val_loss: 2.3777e-04\n",
            "Epoch 15/20\n",
            "106/106 [==============================] - 5s 46ms/step - loss: 2.9333e-04 - val_loss: 1.3663e-04\n",
            "Epoch 16/20\n",
            "106/106 [==============================] - 5s 46ms/step - loss: 2.8798e-04 - val_loss: 1.3543e-04\n",
            "Epoch 17/20\n",
            "106/106 [==============================] - 5s 46ms/step - loss: 2.8883e-04 - val_loss: 2.0512e-04\n",
            "Epoch 18/20\n",
            "106/106 [==============================] - 5s 46ms/step - loss: 2.8796e-04 - val_loss: 1.3268e-04\n",
            "Epoch 19/20\n",
            "106/106 [==============================] - 5s 46ms/step - loss: 2.8163e-04 - val_loss: 1.2325e-04\n",
            "Epoch 20/20\n",
            "106/106 [==============================] - 5s 46ms/step - loss: 2.9016e-04 - val_loss: 2.0724e-04\n"
          ]
        },
        {
          "output_type": "execute_result",
          "data": {
            "text/plain": [
              "<keras.callbacks.History at 0x7fabff626690>"
            ]
          },
          "metadata": {},
          "execution_count": 82
        }
      ]
    },
    {
      "cell_type": "markdown",
      "source": [
        "> # Prediction"
      ],
      "metadata": {
        "id": "GOUrge_A211J"
      }
    },
    {
      "cell_type": "code",
      "source": [
        "pred = model.predict(x_test)\n",
        "\n",
        "fig = plt.figure(facecolor='white')\n",
        "ax = fig.add_subplot(111)\n",
        "ax.plot(y_test, label='True')\n",
        "ax.plot(pred, label='Prediction')\n",
        "ax.legend()\n",
        "plt.show()"
      ],
      "metadata": {
        "colab": {
          "base_uri": "https://localhost:8080/",
          "height": 265
        },
        "id": "HElaImdE3kY8",
        "outputId": "fb7c672e-7013-4441-b2a3-f71f2c74f99b"
      },
      "execution_count": 83,
      "outputs": [
        {
          "output_type": "display_data",
          "data": {
            "image/png": "[encoded data removed]",
            "text/plain": [
              "<Figure size 432x288 with 1 Axes>"
            ]
          },
          "metadata": {}
        }
      ]
    },
    {
      "cell_type": "code",
      "source": [
        "print(x_test[0])\n",
        "print(y_test)\n",
        "print(pred)"
      ],
      "metadata": {
        "colab": {
          "base_uri": "https://localhost:8080/"
        },
        "id": "aZhrslwf4e35",
        "outputId": "d92d8678-cadc-490c-d26d-a7770367adad"
      },
      "execution_count": 108,
      "outputs": [
        {
          "output_type": "stream",
          "name": "stdout",
          "text": [
            "[[ 0.        ]\n",
            " [ 0.00439975]\n",
            " [ 0.00691389]\n",
            " [ 0.01445632]\n",
            " [ 0.01634192]\n",
            " [ 0.03142678]\n",
            " [ 0.03205531]\n",
            " [ 0.03331238]\n",
            " [ 0.03331238]\n",
            " [ 0.02514142]\n",
            " [ 0.02011314]\n",
            " [ 0.02074167]\n",
            " [ 0.01445632]\n",
            " [ 0.01697046]\n",
            " [ 0.02451288]\n",
            " [ 0.01822753]\n",
            " [ 0.01571339]\n",
            " [ 0.00314268]\n",
            " [ 0.00691389]\n",
            " [ 0.0087995 ]\n",
            " [ 0.01508485]\n",
            " [ 0.02514142]\n",
            " [ 0.0282841 ]\n",
            " [ 0.02388435]\n",
            " [ 0.01885607]\n",
            " [ 0.00942803]\n",
            " [ 0.00754243]\n",
            " [ 0.0106851 ]\n",
            " [ 0.01634192]\n",
            " [ 0.01571339]\n",
            " [ 0.01257071]\n",
            " [-0.00188561]\n",
            " [ 0.00251414]\n",
            " [ 0.00565682]\n",
            " [-0.00251414]\n",
            " [ 0.00628536]\n",
            " [ 0.00314268]\n",
            " [-0.00691389]\n",
            " [-0.0106851 ]\n",
            " [-0.00942803]\n",
            " [-0.00251414]\n",
            " [ 0.        ]\n",
            " [-0.00502828]\n",
            " [-0.00754243]\n",
            " [-0.01131364]\n",
            " [-0.00565682]\n",
            " [-0.0106851 ]\n",
            " [-0.00565682]\n",
            " [ 0.01005657]\n",
            " [ 0.03645506]]\n",
            "[ 0.0389692   0.02503129  0.01872659  0.00681537 -0.02102659 -0.05484461\n",
            " -0.08587089 -0.09306569 -0.10158151 -0.09564684 -0.09796673 -0.09482759\n",
            " -0.07311029 -0.06365884 -0.07484663 -0.08148148 -0.07363861 -0.05388471\n",
            " -0.04494382 -0.04984424 -0.05448916 -0.05456775 -0.06479218 -0.06691222\n",
            " -0.06477483 -0.06351183 -0.0555209  -0.04042289 -0.04885591 -0.05012376\n",
            " -0.0496586  -0.02770781 -0.02946708 -0.033125   -0.02961563 -0.06870706\n",
            " -0.06954887 -0.07025316 -0.08259212 -0.08629442 -0.09640832 -0.0955374\n",
            " -0.11813013 -0.12666244 -0.11888112 -0.10872314 -0.113723   -0.10619469\n",
            " -0.12134412 -0.14736204 -0.14882033 -0.14468864 -0.13051471 -0.13230769\n",
            " -0.10486418 -0.08897485 -0.06395736 -0.04158283 -0.03994584 -0.03661017\n",
            " -0.03142077 -0.04489796 -0.05681818 -0.06864686 -0.07427056 -0.05376344\n",
            " -0.04609218 -0.05099338 -0.07058824 -0.07409836 -0.07334643 -0.03891051\n",
            " -0.01633987 -0.01118421 -0.01912929 -0.02859043 -0.04623514 -0.06416073\n",
            " -0.04811443 -0.02540717 -0.01959504 -0.01813472 -0.00968992  0.00646412\n",
            "  0.00779221  0.03554661  0.04242424  0.04424779  0.06578947  0.08263889\n",
            "  0.07949791  0.07435719  0.11604585  0.14720812  0.14935065  0.14184397\n",
            "  0.14982079  0.13224894  0.12393768  0.12091038  0.11940299  0.10920771\n",
            "  0.08668076  0.10496454  0.0952717   0.11111111  0.12597865  0.10006998\n",
            "  0.09449929  0.08866995  0.08885755  0.08974359  0.08150248  0.06661942\n",
            "  0.07808023  0.05255682  0.03641457  0.01395673]\n",
            "[[ 0.04491258]\n",
            " [ 0.03872083]\n",
            " [ 0.02424292]\n",
            " [ 0.01295228]\n",
            " [ 0.00629037]\n",
            " [-0.04117054]\n",
            " [-0.06188263]\n",
            " [-0.09828266]\n",
            " [-0.10086337]\n",
            " [-0.10324264]\n",
            " [-0.09875638]\n",
            " [-0.10829882]\n",
            " [-0.09657118]\n",
            " [-0.07989931]\n",
            " [-0.07586258]\n",
            " [-0.07697553]\n",
            " [-0.08900432]\n",
            " [-0.06680942]\n",
            " [-0.06148965]\n",
            " [-0.04906889]\n",
            " [-0.06164428]\n",
            " [-0.06954043]\n",
            " [-0.06133343]\n",
            " [-0.06758274]\n",
            " [-0.06862939]\n",
            " [-0.06097638]\n",
            " [-0.06795638]\n",
            " [-0.06205598]\n",
            " [-0.04661015]\n",
            " [-0.05309612]\n",
            " [-0.05141226]\n",
            " [-0.03898427]\n",
            " [-0.03288191]\n",
            " [-0.03452111]\n",
            " [-0.02682178]\n",
            " [-0.0416065 ]\n",
            " [-0.07593516]\n",
            " [-0.06483611]\n",
            " [-0.07334068]\n",
            " [-0.09289961]\n",
            " [-0.10065437]\n",
            " [-0.10792091]\n",
            " [-0.09848876]\n",
            " [-0.13113317]\n",
            " [-0.13612702]\n",
            " [-0.13452563]\n",
            " [-0.11145196]\n",
            " [-0.13149795]\n",
            " [-0.12984782]\n",
            " [-0.15857485]\n",
            " [-0.16489148]\n",
            " [-0.15486073]\n",
            " [-0.15608123]\n",
            " [-0.13722053]\n",
            " [-0.12102831]\n",
            " [-0.09376126]\n",
            " [-0.06438239]\n",
            " [-0.06347534]\n",
            " [-0.03222371]\n",
            " [-0.043066  ]\n",
            " [-0.03091113]\n",
            " [-0.03834325]\n",
            " [-0.06817103]\n",
            " [-0.07371563]\n",
            " [-0.06989731]\n",
            " [-0.06857987]\n",
            " [-0.06301023]\n",
            " [-0.05694579]\n",
            " [-0.06884098]\n",
            " [-0.07496932]\n",
            " [-0.0831634 ]\n",
            " [-0.08944554]\n",
            " [-0.02672479]\n",
            " [-0.00879641]\n",
            " [-0.00950938]\n",
            " [-0.01351709]\n",
            " [-0.04006846]\n",
            " [-0.07081506]\n",
            " [-0.06550575]\n",
            " [-0.04725506]\n",
            " [-0.02079612]\n",
            " [-0.02962383]\n",
            " [-0.02061824]\n",
            " [-0.00776388]\n",
            " [ 0.01515603]\n",
            " [ 0.04554436]\n",
            " [ 0.04450374]\n",
            " [ 0.06155174]\n",
            " [ 0.06955797]\n",
            " [ 0.07880829]\n",
            " [ 0.10042361]\n",
            " [ 0.08456817]\n",
            " [ 0.12096079]\n",
            " [ 0.14699447]\n",
            " [ 0.1607109 ]\n",
            " [ 0.14622343]\n",
            " [ 0.17376238]\n",
            " [ 0.14972168]\n",
            " [ 0.14984241]\n",
            " [ 0.1434496 ]\n",
            " [ 0.13451   ]\n",
            " [ 0.14006203]\n",
            " [ 0.10590626]\n",
            " [ 0.10524494]\n",
            " [ 0.11416646]\n",
            " [ 0.11040822]\n",
            " [ 0.13373592]\n",
            " [ 0.12109086]\n",
            " [ 0.12079506]\n",
            " [ 0.10196576]\n",
            " [ 0.10231205]\n",
            " [ 0.11227157]\n",
            " [ 0.09419387]\n",
            " [ 0.09204955]\n",
            " [ 0.08659402]\n",
            " [ 0.07850569]\n",
            " [ 0.04153153]\n",
            " [ 0.03819707]]\n"
          ]
        }
      ]
    },
    {
      "cell_type": "code",
      "source": [
        "test_data = pd.read_csv(\"data/test.csv\")"
      ],
      "metadata": {
        "id": "XpHKjxRM8jX1"
      },
      "execution_count": 93,
      "outputs": []
    },
    {
      "cell_type": "code",
      "source": [
        "high_prices = test_data[\"High\"].values\n",
        "low_prices = test_data[\"Low\"].values\n",
        "mid_prices = (high_prices + low_prices) / 2\n",
        "\n",
        "#pred = model.predict(test_data)\n"
      ],
      "metadata": {
        "colab": {
          "base_uri": "https://localhost:8080/",
          "height": 345
        },
        "id": "rJRliT279l1P",
        "outputId": "f72e0391-9077-4a8f-b534-09d57a5bb0af"
      },
      "execution_count": 94,
      "outputs": [
        {
          "output_type": "error",
          "ename": "ValueError",
          "evalue": "ignored",
          "traceback": [
            "\u001b[0;31m---------------------------------------------------------------------------\u001b[0m",
            "\u001b[0;31mValueError\u001b[0m                                Traceback (most recent call last)",
            "\u001b[0;32m<ipython-input-94-2c5717bc0178>\u001b[0m in \u001b[0;36m<module>\u001b[0;34m()\u001b[0m\n\u001b[0;32m----> 1\u001b[0;31m \u001b[0mpred\u001b[0m \u001b[0;34m=\u001b[0m \u001b[0mmodel\u001b[0m\u001b[0;34m.\u001b[0m\u001b[0mpredict\u001b[0m\u001b[0;34m(\u001b[0m\u001b[0mtest_data\u001b[0m\u001b[0;34m)\u001b[0m\u001b[0;34m\u001b[0m\u001b[0;34m\u001b[0m\u001b[0m\n\u001b[0m",
            "\u001b[0;32m/usr/local/lib/python3.7/dist-packages/keras/utils/traceback_utils.py\u001b[0m in \u001b[0;36merror_handler\u001b[0;34m(*args, **kwargs)\u001b[0m\n\u001b[1;32m     65\u001b[0m     \u001b[0;32mexcept\u001b[0m \u001b[0mException\u001b[0m \u001b[0;32mas\u001b[0m \u001b[0me\u001b[0m\u001b[0;34m:\u001b[0m  \u001b[0;31m# pylint: disable=broad-except\u001b[0m\u001b[0;34m\u001b[0m\u001b[0;34m\u001b[0m\u001b[0m\n\u001b[1;32m     66\u001b[0m       \u001b[0mfiltered_tb\u001b[0m \u001b[0;34m=\u001b[0m \u001b[0m_process_traceback_frames\u001b[0m\u001b[0;34m(\u001b[0m\u001b[0me\u001b[0m\u001b[0;34m.\u001b[0m\u001b[0m__traceback__\u001b[0m\u001b[0;34m)\u001b[0m\u001b[0;34m\u001b[0m\u001b[0;34m\u001b[0m\u001b[0m\n\u001b[0;32m---> 67\u001b[0;31m       \u001b[0;32mraise\u001b[0m \u001b[0me\u001b[0m\u001b[0;34m.\u001b[0m\u001b[0mwith_traceback\u001b[0m\u001b[0;34m(\u001b[0m\u001b[0mfiltered_tb\u001b[0m\u001b[0;34m)\u001b[0m \u001b[0;32mfrom\u001b[0m \u001b[0;32mNone\u001b[0m\u001b[0;34m\u001b[0m\u001b[0;34m\u001b[0m\u001b[0m\n\u001b[0m\u001b[1;32m     68\u001b[0m     \u001b[0;32mfinally\u001b[0m\u001b[0;34m:\u001b[0m\u001b[0;34m\u001b[0m\u001b[0;34m\u001b[0m\u001b[0m\n\u001b[1;32m     69\u001b[0m       \u001b[0;32mdel\u001b[0m \u001b[0mfiltered_tb\u001b[0m\u001b[0;34m\u001b[0m\u001b[0;34m\u001b[0m\u001b[0m\n",
            "\u001b[0;32m/usr/local/lib/python3.7/dist-packages/tensorflow/python/framework/constant_op.py\u001b[0m in \u001b[0;36mconvert_to_eager_tensor\u001b[0;34m(value, ctx, dtype)\u001b[0m\n\u001b[1;32m    104\u001b[0m       \u001b[0mdtype\u001b[0m \u001b[0;34m=\u001b[0m \u001b[0mdtypes\u001b[0m\u001b[0;34m.\u001b[0m\u001b[0mas_dtype\u001b[0m\u001b[0;34m(\u001b[0m\u001b[0mdtype\u001b[0m\u001b[0;34m)\u001b[0m\u001b[0;34m.\u001b[0m\u001b[0mas_datatype_enum\u001b[0m\u001b[0;34m\u001b[0m\u001b[0;34m\u001b[0m\u001b[0m\n\u001b[1;32m    105\u001b[0m   \u001b[0mctx\u001b[0m\u001b[0;34m.\u001b[0m\u001b[0mensure_initialized\u001b[0m\u001b[0;34m(\u001b[0m\u001b[0;34m)\u001b[0m\u001b[0;34m\u001b[0m\u001b[0;34m\u001b[0m\u001b[0m\n\u001b[0;32m--> 106\u001b[0;31m   \u001b[0;32mreturn\u001b[0m \u001b[0mops\u001b[0m\u001b[0;34m.\u001b[0m\u001b[0mEagerTensor\u001b[0m\u001b[0;34m(\u001b[0m\u001b[0mvalue\u001b[0m\u001b[0;34m,\u001b[0m \u001b[0mctx\u001b[0m\u001b[0;34m.\u001b[0m\u001b[0mdevice_name\u001b[0m\u001b[0;34m,\u001b[0m \u001b[0mdtype\u001b[0m\u001b[0;34m)\u001b[0m\u001b[0;34m\u001b[0m\u001b[0;34m\u001b[0m\u001b[0m\n\u001b[0m\u001b[1;32m    107\u001b[0m \u001b[0;34m\u001b[0m\u001b[0m\n\u001b[1;32m    108\u001b[0m \u001b[0;34m\u001b[0m\u001b[0m\n",
            "\u001b[0;31mValueError\u001b[0m: Failed to convert a NumPy array to a Tensor (Unsupported object type float)."
          ]
        }
      ]
    }
  ]
}