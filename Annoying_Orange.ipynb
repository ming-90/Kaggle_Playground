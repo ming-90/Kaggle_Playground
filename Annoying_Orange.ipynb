{
  "nbformat": 4,
  "nbformat_minor": 0,
  "metadata": {
    "colab": {
      "name": "Annoying_Orange.ipynb",
      "provenance": [],
      "collapsed_sections": [],
      "authorship_tag": "ABX9TyP+JCtssxJ9UIHW3L8ippen"
    },
    "kernelspec": {
      "name": "python3",
      "display_name": "Python 3"
    },
    "language_info": {
      "name": "python"
    }
  },
  "cells": [
    {
      "cell_type": "code",
      "source": [
        "from google.colab import drive\n",
        "drive.mount('drive')"
      ],
      "metadata": {
        "id": "-AIEyhLzjoMD"
      },
      "execution_count": null,
      "outputs": []
    },
    {
      "cell_type": "code",
      "source": [
        "cd /content/drive/MyDrive/Colab/캐글놀이터"
      ],
      "metadata": {
        "id": "IqGWxkqBj0wg"
      },
      "execution_count": null,
      "outputs": []
    },
    {
      "cell_type": "code",
      "execution_count": null,
      "metadata": {
        "id": "r9k7h-AIikrK"
      },
      "outputs": [],
      "source": [
        "import cv2\n",
        "import matplotlib.pyplot as plt\n",
        "from google.colab.patches import cv2_imshow\n",
        "import numpy as np\n",
        "\n",
        "# 얼굴인식 AI 라이브러리\n",
        "import dlib\n",
        "from imutils import face_utils\n",
        "\n",
        "# 영상 출력용\n",
        "from IPython.display import HTML\n",
        "from base64 import b64encode\n",
        "\n",
        "DATA_PATH = \"./data\"\n",
        "HEIGTH = int(2160 * 0.2)\n",
        "WIDTH =int(3840 * 0.2)\n",
        "\n",
        "\n",
        "detector = dlib.get_frontal_face_detector()\n",
        "predictor = dlib.shape_predictor('shape_predictor_68_face_landmarks.dat')"
      ]
    },
    {
      "cell_type": "code",
      "source": [
        "# 동영상 불러서 HTML 코드로 colab에 동영상 재생\n",
        "mp4 = open(DATA_PATH + '/video.mp4','rb').read()\n",
        "data_url = \"data:video/mp4;base64,\" + b64encode(mp4).decode() \n",
        "HTML(\"\"\" <video width=500 controls> <source src=\"%s\" type=\"video/mp4\"> </video> \"\"\" % data_url)\n"
      ],
      "metadata": {
        "id": "nAPjvbHBqQia"
      },
      "execution_count": null,
      "outputs": []
    },
    {
      "cell_type": "code",
      "source": [
        "#사이즈가 너무 커서 디텍딩에 오랜 시간걸림\n",
        "#따라서 먼저 동영상 전체 리사이즈 먼저 해서 저장\n",
        "cap = cv2.VideoCapture(DATA_PATH + \"/video.mp4\")\n",
        "ret, img = cap.read()\n",
        "\n",
        "fourcc = cv2.VideoWriter_fourcc(*'DIVX')\n",
        "out = cv2.VideoWriter('./output.mp4', fourcc, cap.get(cv2.CAP_PROP_FPS), (WIDTH, HEIGTH))\n",
        "\n",
        "while cap.isOpened():\n",
        "    ret, img = cap.read()\n",
        "    if not ret:\n",
        "        break\n",
        "\n",
        "    try:\n",
        "        img = cv2.resize(img,(WIDTH, HEIGTH))\n",
        "        #opencv에서 불러들때는 BGR로 불러오기 때문에 색이 이상하게 된다\n",
        "        #save할때는 색공간이 제대로 들어감....\n",
        "        #그래서 save할땐 아래는 실행 할 필요 없음\n",
        "        #img = cv2.cvtColor(img, cv2.COLOR_BGR2RGB)\n",
        "\n",
        "        out.write(img)\n",
        "        plt.imshow(img)\n",
        "        \n",
        "    except e:\n",
        "        print(e)\n",
        "\n",
        "out.release()\n",
        "cap.release()"
      ],
      "metadata": {
        "id": "Th--CCMtkOh5"
      },
      "execution_count": null,
      "outputs": []
    },
    {
      "cell_type": "code",
      "source": [
        "#리사이즈 한 동영상을 불러와서 디텍팅\n",
        "cap = cv2.VideoCapture(\"./output.mp4\")\n",
        "original_img = \"\"           # 오리지널 이미지\n",
        "rectangle_img = \"\"          # 크롭하고 68개의 점이 있는 이미지\n",
        "no_circle_img = \"\"\n",
        "shape = \"\"                   # 점의 위치가 저장되어있는 리스트\n",
        "left, top, right, bottom = \"\", \"\", \"\", \"\"\n",
        "while cap.isOpened():\n",
        "    ret, img = cap.read()\n",
        "    if not ret:\n",
        "        break\n",
        "\n",
        "    dats = detector(img)\n",
        "    if len(dats) > 0:\n",
        "        dat = dats[0]\n",
        "        left, top, right, bottom = dat.left(), dat.top(), dat.right(), dat.bottom()\n",
        "        img = cv2.cvtColor(img, cv2.COLOR_BGR2RGB)\n",
        "\n",
        "        shape = predictor(img, dat)\n",
        "        shape = face_utils.shape_to_np(shape)\n",
        "\n",
        "        # python의 2차원 배열 인덱싱은 행(세로), 열(가로) 순서\n",
        "        # 따라서 원하는 이미지 위치를 자르려면 [up: bottom, left:right]로 잘라야함\n",
        "        rectangle_img = img[top:bottom, left:right].copy()\n",
        "        no_circle_img = rectangle_img.copy()\n",
        "        for (x,y) in shape:\n",
        "            # 크롭한 이미지에서 점을 찾아야 하기 때문에 원래의 좌표에서 제일 왼쪽, 제일 위쪽 값 빼주기\n",
        "            cv2.circle(rectangle_img, (int(x - left), int(y - top)), 2, (2555, 0, 0),  -1)\n",
        "\n",
        "    original_img = img\n",
        "    plt.imshow(rectangle_img)\n"
      ],
      "metadata": {
        "id": "kjjZKKyTv3pb"
      },
      "execution_count": null,
      "outputs": []
    },
    {
      "cell_type": "code",
      "source": [
        "left_img = no_circle_img.copy()\n",
        "right_img = no_circle_img.copy()\n",
        "mouse_img = no_circle_img.copy()\n",
        "\n",
        "# 좌우 눈, 입 좌표 저장\n",
        "left_eye = shape[36:42]\n",
        "right_eye = shape[42:48]\n",
        "mouse = shape[48:68]\n",
        "\n",
        "# 하나씩 테스트\n",
        "for (x,y) in left_eye:\n",
        "    cv2.circle(left_img, (int(x - left), int(y - top)), 2, (2555, 0, 0),  -1)\n",
        "for (x,y) in right_eye:\n",
        "    cv2.circle(right_img, (int(x - left), int(y - top)), 2, (2555, 0, 0),  -1)\n",
        "for (x,y) in mouse:\n",
        "    cv2.circle(mouse_img, (int(x - left), int(y - top)), 2, (2555, 0, 0),  -1)\n",
        "\n",
        "plt.subplot(131)\n",
        "plt.imshow(left_img)\n",
        "plt.subplot(132)\n",
        "plt.imshow(right_img)\n",
        "plt.subplot(133)\n",
        "plt.imshow(mouse_img)"
      ],
      "metadata": {
        "id": "b5uty3h6_12G"
      },
      "execution_count": null,
      "outputs": []
    },
    {
      "cell_type": "code",
      "source": [
        "print(left_eye)\n",
        "print(left_eye[2:][0])"
      ],
      "metadata": {
        "id": "As2b-pbFYL0w"
      },
      "execution_count": null,
      "outputs": []
    }
  ]
}